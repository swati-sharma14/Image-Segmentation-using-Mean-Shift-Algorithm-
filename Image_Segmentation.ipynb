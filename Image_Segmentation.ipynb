{
  "nbformat": 4,
  "nbformat_minor": 0,
  "metadata": {
    "colab": {
      "provenance": []
    },
    "kernelspec": {
      "name": "python3",
      "display_name": "Python 3"
    },
    "language_info": {
      "name": "python"
    }
  },
  "cells": [
    {
      "cell_type": "code",
      "execution_count": null,
      "metadata": {
        "id": "sIuYb286-2j7"
      },
      "outputs": [],
      "source": [
        "import numpy as np\n",
        "import math\n",
        "import os\n",
        "import matplotlib.pyplot as plt\n",
        "from google.colab import drive\n",
        "from PIL import Image\n",
        "\n",
        "drive.mount('/content/drive')\n",
        "os.chdir('/content/drive/My Drive')\n",
        "img = Image.open('pepper.png')\n",
        "img = np.array(img)"
      ]
    },
    {
      "cell_type": "code",
      "source": [
        "def cluster(point, data_point, radius):\n",
        "  x = point[0]\n",
        "  y = point[1]\n",
        "  a = data_point[0]\n",
        "  b = data_point[1]\n",
        "\n",
        "  distance = math.sqrt((x-a)**2 + (y-b)**2)\n",
        "  if(distance > radius):\n",
        "    return 0\n",
        "  else:\n",
        "    return 1\n",
        "  \n",
        "def mean_shifting(data, radius):\n",
        "  data /= np.amax(data,axis=0)\n",
        "  cluster_array = np.full((row*col), -1)\n",
        "  id = 0\n",
        "\n",
        "  for i in range(len(data)):\n",
        "    if(cluster_array[i] != -1):\n",
        "      continue\n",
        "    else:\n",
        "      centroid = data[i]\n",
        "\n",
        "      while(True):\n",
        "        neighborhood = data[np.sum((data - centroid)**2, axis=1) < radius**2]\n",
        "        neighborhood = neighborhood[cluster_array[np.where(np.sum((data - centroid)**2, axis=1) < radius**2)] == -1]\n",
        "        new_centroid = np.mean(neighborhood,axis=0)\n",
        "\n",
        "        if(np.sum((new_centroid - centroid)**2) < 0.1):\n",
        "          cluster_array[np.sum((data - centroid)**2, axis=1) < radius**2] = id\n",
        "          id += 1\n",
        "          break\n",
        "\n",
        "        centroid = new_centroid\n",
        "  return data, cluster_array,id"
      ],
      "metadata": {
        "id": "zEyE-s3Gu8Ey"
      },
      "execution_count": null,
      "outputs": []
    },
    {
      "cell_type": "code",
      "source": [
        "row = np.shape(img)[0]\n",
        "col = np.shape(img)[1]\n",
        "\n",
        "data = np.zeros((row* col, 5))  # create an empty array of the desired shape and data type\n",
        "for i in range(row):\n",
        "  for j in range(col):\n",
        "    # append the RGB values and the coordinates to the new array\n",
        "    data[i*col + j,0:3] = img[i,j,0:3]\n",
        "    data[i*col + j,3:5] = [i,j]\n",
        "\n",
        "data, clusters,num = mean_shifting(data,0.1)"
      ],
      "metadata": {
        "id": "BDXidR21OCwJ"
      },
      "execution_count": null,
      "outputs": []
    },
    {
      "cell_type": "code",
      "source": [
        "for i in range(0,num-1):\n",
        "  data[clusters==i] = data[np.where(clusters==i)[0][0]]"
      ],
      "metadata": {
        "id": "tg5OJGz8CE01"
      },
      "execution_count": null,
      "outputs": []
    },
    {
      "cell_type": "code",
      "source": [
        "data = data.reshape(row,col,5)\n",
        "r = data[...,0]\n",
        "g = data[...,1]\n",
        "b = data[...,2]\n",
        "plt.imshow(np.stack((r,g,b), axis=-1)) "
      ],
      "metadata": {
        "id": "71pwR13_CG8b"
      },
      "execution_count": null,
      "outputs": []
    }
  ]
}